{
 "cells": [
  {
   "cell_type": "markdown",
   "metadata": {},
   "source": [
    "### Discreate Distributions"
   ]
  },
  {
   "cell_type": "code",
   "execution_count": 1,
   "metadata": {},
   "outputs": [],
   "source": [
    "import math"
   ]
  },
  {
   "cell_type": "markdown",
   "metadata": {},
   "source": [
    "The binomial distribution describes the behavior of a count variable X if the following conditions apply:\n",
    "<br>1: The number of observations n is fixed.</br>\n",
    "<br>2: Each observation is independent.</br>\n",
    "<br>3: Each observation represents one of two outcomes (\"success\" or \"failure\").</br>\n",
    "<br>4: The probability of \"success\" p is the same for each outcome.</br>\n",
    "<br>\n",
    "###### Question: A survay found that 65% of all financial consumers were very satisfied with primary financial insitution. Soppose the 25 financial consumers are sampled and if survey results still holds true today, what is the probability that exactly 19 are very satisfied with their primary financial insitution?</br>"
   ]
  },
  {
   "cell_type": "code",
   "execution_count": 2,
   "metadata": {},
   "outputs": [
    {
     "name": "stdout",
     "output_type": "stream",
     "text": [
      "120\n"
     ]
    }
   ],
   "source": [
    "def factorial(n):\n",
    "    \"\"\"This function is to get the factorial of any given number n.\n",
    "    \"\"\"\n",
    "    if (n == 1) or (n == 0):\n",
    "        return 1\n",
    "    else:\n",
    "        fact = n*factorial(n-1)\n",
    "    return fact\n",
    "\n",
    "print(factorial(5))"
   ]
  },
  {
   "cell_type": "code",
   "execution_count": 3,
   "metadata": {},
   "outputs": [
    {
     "name": "stdout",
     "output_type": "stream",
     "text": [
      "10.0\n"
     ]
    }
   ],
   "source": [
    "def choose(n,r):\n",
    "    \"\"\"\n",
    "    This function is to get the choose value of any given pairs of numbers n and r.\n",
    "    \"\"\"\n",
    "    nCr = factorial(n)/(factorial(r)*factorial(n-r))\n",
    "    return nCr\n",
    "\n",
    "print(choose(5,2))"
   ]
  },
  {
   "cell_type": "code",
   "execution_count": 4,
   "metadata": {},
   "outputs": [
    {
     "name": "stdout",
     "output_type": "stream",
     "text": [
      "(0.09077799859322805, 16.25, 5.6875, 2.384848003542364)\n"
     ]
    }
   ],
   "source": [
    "def binomial_distribution(x,n,p):\n",
    "    \"\"\"\n",
    "    This functiom is to get the Probability mass function, Mean , Variance and Standard deviation of Binomial distribution.\n",
    "    where,\n",
    "    x is number of success in n trials\n",
    "    p is probability of success\n",
    "    for 0<= x <= n\n",
    "    \"\"\"\n",
    "    binom_pdf = choose(n,x)*(p**x)*((1-p)**(n-x))\n",
    "    binom_mu = n*p\n",
    "    binom_variance = n*p*(1-p)\n",
    "    binom_st_dev = math.sqrt(binom_variance)\n",
    "    return binom_pdf,binom_mu,binom_variance,binom_st_dev\n",
    "\n",
    "print(binomial_distribution(x=19, n=25, p=0.65))"
   ]
  },
  {
   "cell_type": "code",
   "execution_count": 5,
   "metadata": {},
   "outputs": [
    {
     "name": "stdout",
     "output_type": "stream",
     "text": [
      "(0.9754901960784313, 0.024509803921568627, 2.0, 4.843853470166635e-21, 6.959779788302669e-11)\n"
     ]
    }
   ],
   "source": [
    "def hypergeometric_distribution(x,N,n,k):\n",
    "    \"\"\"\n",
    "    This functiom is to get the Probability mass function, Mean , Variance and Standard deviation of Hypergeometric \n",
    "    distribution.\n",
    "    where,\n",
    "    N is Population size\n",
    "    n is sample size\n",
    "    x is number of success in sample\n",
    "    k is number of success in population\n",
    "    max{0,n-(N-k)} <= x <= min{n,k}\n",
    "    \"\"\"\n",
    "    hypergeometric_pmf = 1 - (choose(k,x)*choose((N-k),(n-x)))/choose(N,n)\n",
    "    hypergeometric_cdf = (choose(k,x)*choose((N-k),(n-x)))/choose(N,n)\n",
    "    hypergeometric_mu = k*n/N\n",
    "    hypergeometric_variance = (k*(N-k)*n*(N-n))/((N**N)*(N-1))\n",
    "    hypergeometric_st_dev = math.sqrt(hypergeometric_variance)\n",
    "    return hypergeometric_pmf, hypergeometric_cdf, hypergeometric_mu, hypergeometric_variance, hypergeometric_st_dev\n",
    "    \n",
    "\n",
    "print(hypergeometric_distribution(x=0, N=18, n=3, k=12))  "
   ]
  },
  {
   "cell_type": "code",
   "execution_count": 6,
   "metadata": {},
   "outputs": [
    {
     "name": "stdout",
     "output_type": "stream",
     "text": [
      "(0.08923543850602365, 6.0, 2.449489742783178)\n"
     ]
    }
   ],
   "source": [
    "def poission_distribution(x, x_unit, mu, mu_unit):\n",
    "    \"\"\"\n",
    "    This functiom is to get the Probability mass function, Variance and Standard deviation of Poission distribution.\n",
    "    where,\n",
    "    mu = mean = variance = lambda = hyperparameter\n",
    "    x = given number of occurance\n",
    "    If unit of mu and x are not same then make unit of mu as same as the x and then calculate the PMF.\n",
    "    \"\"\"\n",
    "    e = 2.71828\n",
    "    multiplier = 1\n",
    "    if x_unit!=mu_unit:\n",
    "        multiplier = multiplier*x_unit/mu_unit\n",
    "        mu = multiplier*mu\n",
    "    #print(mu)    \n",
    "    poission_pmf = ((mu**x)*(e**(-mu)))/factorial(x)\n",
    "    poission_variance = mu\n",
    "    poission_st_deviation = math.sqrt(mu)\n",
    "        \n",
    "    return poission_pmf, poission_variance, poission_st_deviation\n",
    "\n",
    "print(poission_distribution(x=3,x_unit=4,mu=3,mu_unit= 2))"
   ]
  },
  {
   "cell_type": "code",
   "execution_count": null,
   "metadata": {},
   "outputs": [],
   "source": []
  }
 ],
 "metadata": {
  "kernelspec": {
   "display_name": "Python 3",
   "language": "python",
   "name": "python3"
  },
  "language_info": {
   "codemirror_mode": {
    "name": "ipython",
    "version": 3
   },
   "file_extension": ".py",
   "mimetype": "text/x-python",
   "name": "python",
   "nbconvert_exporter": "python",
   "pygments_lexer": "ipython3",
   "version": "3.8.5"
  }
 },
 "nbformat": 4,
 "nbformat_minor": 4
}
